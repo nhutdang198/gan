{
 "cells": [
  {
   "cell_type": "code",
   "execution_count": 1,
   "metadata": {},
   "outputs": [],
   "source": [
    "import zipfile\n",
    "import os"
   ]
  },
  {
   "cell_type": "code",
   "execution_count": null,
   "metadata": {},
   "outputs": [
    {
     "name": "stdout",
     "output_type": "stream",
     "text": [
      "Extracted all files to dataset\n"
     ]
    }
   ],
   "source": [
    "def extract_zip(zip_path, extract_to):\n",
    "    # Check if the provided ZIP path exists\n",
    "    if not os.path.exists(zip_path):\n",
    "        print(f\"The file {zip_path} does not exist.\")\n",
    "        return\n",
    "\n",
    "    # Extract the ZIP file\n",
    "    with zipfile.ZipFile(zip_path, 'r') as zip_ref:\n",
    "        zip_ref.extractall(extract_to)\n",
    "        print(f\"Extracted all files to {extract_to}\")\n",
    "\n",
    "# Example usage\n",
    "zip_path = \"cats-faces-64x64-for-generative-models.zip\"\n",
    "extract_to = \"dataset\"\n",
    "\n",
    "extract_zip(zip_path, extract_to)\n"
   ]
  }
 ],
 "metadata": {
  "kernelspec": {
   "display_name": "cloned-global",
   "language": "python",
   "name": "python3"
  },
  "language_info": {
   "codemirror_mode": {
    "name": "ipython",
    "version": 3
   },
   "file_extension": ".py",
   "mimetype": "text/x-python",
   "name": "python",
   "nbconvert_exporter": "python",
   "pygments_lexer": "ipython3",
   "version": "3.9.21"
  }
 },
 "nbformat": 4,
 "nbformat_minor": 2
}
